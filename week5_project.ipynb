{
  "nbformat": 4,
  "nbformat_minor": 0,
  "metadata": {
    "kernelspec": {
      "display_name": "Python 3",
      "language": "python",
      "name": "python3"
    },
    "language_info": {
      "codemirror_mode": {
        "name": "ipython",
        "version": 3
      },
      "file_extension": ".py",
      "mimetype": "text/x-python",
      "name": "python",
      "nbconvert_exporter": "python",
      "pygments_lexer": "ipython3",
      "version": "3.5.2"
    },
    "latex_envs": {
      "bibliofile": "biblio.bib",
      "cite_by": "apalike",
      "current_citInitial": 1,
      "eqLabelWithNumbers": true,
      "eqNumInitial": 0
    },
    "colab": {
      "name": "week5-project.ipynb",
      "provenance": []
    }
  },
  "cells": [
    {
      "cell_type": "markdown",
      "metadata": {
        "id": "wk_9DCPgjgz0",
        "colab_type": "text"
      },
      "source": [
        "# Final project: StackOverflow assistant bot\n",
        "\n",
        "Congratulations on coming this far and solving the programming assignments! In this final project, we will combine everything we have learned about Natural Language Processing to construct a *dialogue chat bot*, which will be able to:\n",
        "* answer programming-related questions (using StackOverflow dataset);\n",
        "* chit-chat and simulate dialogue on all non programming-related questions.\n",
        "\n",
        "For a chit-chat mode we will use a pre-trained neural network engine available from [ChatterBot](https://github.com/gunthercox/ChatterBot).\n",
        "Those who aim at honor certificates for our course or are just curious, will train their own models for chit-chat.\n",
        "![](https://imgs.xkcd.com/comics/twitter_bot.png)\n",
        "©[xkcd](https://xkcd.com)"
      ]
    },
    {
      "cell_type": "markdown",
      "metadata": {
        "id": "8Udtf0M5jgz2",
        "colab_type": "text"
      },
      "source": [
        "### Data description\n",
        "\n",
        "To detect *intent* of users questions we will need two text collections:\n",
        "- `tagged_posts.tsv` — StackOverflow posts, tagged with one programming language (*positive samples*).\n",
        "- `dialogues.tsv` — dialogue phrases from movie subtitles (*negative samples*).\n"
      ]
    },
    {
      "cell_type": "code",
      "metadata": {
        "id": "-LivpnJ9jgz9",
        "colab_type": "code",
        "colab": {
          "base_uri": "https://localhost:8080/",
          "height": 238
        },
        "outputId": "0d25b897-2814-4d91-b2cc-658f8ec9e738"
      },
      "source": [
        "try:\n",
        "    import google.colab\n",
        "    IN_COLAB = True\n",
        "except:\n",
        "    IN_COLAB = False\n",
        "\n",
        "if IN_COLAB:\n",
        "    ! wget https://raw.githubusercontent.com/hse-aml/natural-language-processing/master/setup_google_colab.py -O setup_google_colab.py\n",
        "    import setup_google_colab\n",
        "    setup_google_colab.setup_project()\n",
        "\n",
        "import sys\n",
        "sys.path.append(\"..\")\n",
        "from common.download_utils import download_project_resources\n",
        "\n",
        "download_project_resources()"
      ],
      "execution_count": 1,
      "outputs": [
        {
          "output_type": "stream",
          "text": [
            "--2020-06-29 15:50:59--  https://raw.githubusercontent.com/hse-aml/natural-language-processing/master/setup_google_colab.py\n",
            "Resolving raw.githubusercontent.com (raw.githubusercontent.com)... 151.101.0.133, 151.101.64.133, 151.101.128.133, ...\n",
            "Connecting to raw.githubusercontent.com (raw.githubusercontent.com)|151.101.0.133|:443... connected.\n",
            "HTTP request sent, awaiting response... 200 OK\n",
            "Length: 1991 (1.9K) [text/plain]\n",
            "Saving to: ‘setup_google_colab.py’\n",
            "\n",
            "\rsetup_google_colab.   0%[                    ]       0  --.-KB/s               \rsetup_google_colab. 100%[===================>]   1.94K  --.-KB/s    in 0s      \n",
            "\n",
            "2020-06-29 15:50:59 (26.1 MB/s) - ‘setup_google_colab.py’ saved [1991/1991]\n",
            "\n",
            "File data/dialogues.tsv is already downloaded.\n",
            "File data/tagged_posts.tsv is already downloaded.\n"
          ],
          "name": "stdout"
        }
      ]
    },
    {
      "cell_type": "markdown",
      "metadata": {
        "id": "Mdd71c0Djg0G",
        "colab_type": "text"
      },
      "source": [
        "For those questions, that have programming-related intent, we will proceed as follow predict programming language (only one tag per question allowed here) and rank candidates within the tag using embeddings.\n",
        "For the ranking part, you will need:\n",
        "- `word_embeddings.tsv` — word embeddings, that you  trained with StarSpace in the 3rd assignment. It's not a problem if you didn't do it, because we can offer an alternative solution for you."
      ]
    },
    {
      "cell_type": "markdown",
      "metadata": {
        "id": "hUJFhQ89jg0H",
        "colab_type": "text"
      },
      "source": [
        "As a result of this notebook, you should obtain the following new objects that you will then use in the running bot:\n",
        "\n",
        "- `intent_recognizer.pkl` — intent recognition model;\n",
        "- `tag_classifier.pkl` — programming language classification model;\n",
        "- `tfidf_vectorizer.pkl` — vectorizer used during training;\n",
        "- `thread_embeddings_by_tags` — folder with thread embeddings, arranged by tags.\n",
        "    "
      ]
    },
    {
      "cell_type": "markdown",
      "metadata": {
        "id": "Md3nXpeSjg0I",
        "colab_type": "text"
      },
      "source": [
        "Some functions will be reused by this notebook and the scripts, so we put them into *utils.py* file. Don't forget to open it and fill in the gaps!"
      ]
    },
    {
      "cell_type": "code",
      "metadata": {
        "id": "7EgGOLDqjg0J",
        "colab_type": "code",
        "colab": {}
      },
      "source": [
        "from utils import *"
      ],
      "execution_count": 2,
      "outputs": []
    },
    {
      "cell_type": "markdown",
      "metadata": {
        "id": "695nM8yJjg0P",
        "colab_type": "text"
      },
      "source": [
        "## Part I. Intent and language recognition"
      ]
    },
    {
      "cell_type": "markdown",
      "metadata": {
        "id": "qbBYaEQZjg0R",
        "colab_type": "text"
      },
      "source": [
        "We want to write a bot, which will not only **answer programming-related questions**, but also will be able to **maintain a dialogue**. We would also like to detect the *intent* of the user from the question (we could have had a 'Question answering mode' check-box in the bot, but it wouldn't fun at all, would it?). So the first thing we need to do is to **distinguish programming-related questions from general ones**.\n",
        "\n",
        "It would also be good to predict which programming language a particular question referees to. By doing so, we will speed up question search by a factor of the number of languages (10 here), and exercise our *text classification* skill a bit. :)"
      ]
    },
    {
      "cell_type": "code",
      "metadata": {
        "id": "k3hEAC9mjg0S",
        "colab_type": "code",
        "colab": {}
      },
      "source": [
        "import numpy as np\n",
        "import pandas as pd\n",
        "import pickle\n",
        "import re\n",
        "import utils\n",
        "\n",
        "from sklearn.feature_extraction.text import TfidfVectorizer"
      ],
      "execution_count": 3,
      "outputs": []
    },
    {
      "cell_type": "markdown",
      "metadata": {
        "id": "lT0rIpbtjg0X",
        "colab_type": "text"
      },
      "source": [
        "### Data preparation"
      ]
    },
    {
      "cell_type": "markdown",
      "metadata": {
        "id": "zxsqjhrTjg0Y",
        "colab_type": "text"
      },
      "source": [
        "In the first assignment (Predict tags on StackOverflow with linear models), you have already learnt how to preprocess texts and do TF-IDF tranformations. Reuse your code here. In addition, you will also need to [dump](https://docs.python.org/3/library/pickle.html#pickle.dump) the TF-IDF vectorizer with pickle to use it later in the running bot."
      ]
    },
    {
      "cell_type": "code",
      "metadata": {
        "id": "wQ3v0fXVjg0Z",
        "colab_type": "code",
        "colab": {}
      },
      "source": [
        "def tfidf_features(X_train, X_test, vectorizer_path):\n",
        "    \"\"\"Performs TF-IDF transformation and dumps the model.\"\"\"\n",
        "    \n",
        "    # Train a vectorizer on X_train data.\n",
        "    # Transform X_train and X_test data.\n",
        "    \n",
        "    # Pickle the trained vectorizer to 'vectorizer_path'\n",
        "    # Don't forget to open the file in writing bytes mode.\n",
        "    \n",
        "    tfidf_vectorizer = TfidfVectorizer(min_df = 5, max_df= 0.9, ngram_range=(1,2), token_pattern ='\\S+')\n",
        "    tfidf_vectorizer.fit(X_train)\n",
        "\n",
        "    X_train = tfidf_vectorizer.transform(X_train)\n",
        "    X_test = tfidf_vectorizer.transform(X_test)\n",
        "\n",
        "    with open(vectorizer_path, 'wb') as output_file:\n",
        "      pickle.dump(tfidf_vectorizer, output_file)\n",
        "    \n",
        "    return X_train, X_test"
      ],
      "execution_count": 4,
      "outputs": []
    },
    {
      "cell_type": "markdown",
      "metadata": {
        "id": "WonjV-DVjg0g",
        "colab_type": "text"
      },
      "source": [
        "Now, load examples of two classes. Use a subsample of stackoverflow data to balance the classes. You will need the full data later."
      ]
    },
    {
      "cell_type": "code",
      "metadata": {
        "id": "uqApbBWkjg0j",
        "colab_type": "code",
        "colab": {}
      },
      "source": [
        "sample_size = 200000\n",
        "\n",
        "dialogue_df = pd.read_csv('data/dialogues.tsv', sep='\\t').sample(sample_size, random_state=0)\n",
        "stackoverflow_df = pd.read_csv('data/tagged_posts.tsv', sep='\\t').sample(sample_size, random_state=0)"
      ],
      "execution_count": 5,
      "outputs": []
    },
    {
      "cell_type": "markdown",
      "metadata": {
        "id": "ob_YXA90jg0o",
        "colab_type": "text"
      },
      "source": [
        "Check how the data look like:"
      ]
    },
    {
      "cell_type": "code",
      "metadata": {
        "id": "bnlKwfPljg0p",
        "colab_type": "code",
        "colab": {
          "base_uri": "https://localhost:8080/",
          "height": 204
        },
        "outputId": "533d750d-6386-41fa-89cb-8418bc222b06"
      },
      "source": [
        "dialogue_df.head()"
      ],
      "execution_count": 6,
      "outputs": [
        {
          "output_type": "execute_result",
          "data": {
            "text/html": [
              "<div>\n",
              "<style scoped>\n",
              "    .dataframe tbody tr th:only-of-type {\n",
              "        vertical-align: middle;\n",
              "    }\n",
              "\n",
              "    .dataframe tbody tr th {\n",
              "        vertical-align: top;\n",
              "    }\n",
              "\n",
              "    .dataframe thead th {\n",
              "        text-align: right;\n",
              "    }\n",
              "</style>\n",
              "<table border=\"1\" class=\"dataframe\">\n",
              "  <thead>\n",
              "    <tr style=\"text-align: right;\">\n",
              "      <th></th>\n",
              "      <th>text</th>\n",
              "      <th>tag</th>\n",
              "    </tr>\n",
              "  </thead>\n",
              "  <tbody>\n",
              "    <tr>\n",
              "      <th>82925</th>\n",
              "      <td>Donna, you are a muffin.</td>\n",
              "      <td>dialogue</td>\n",
              "    </tr>\n",
              "    <tr>\n",
              "      <th>48774</th>\n",
              "      <td>He was here last night till about two o'clock....</td>\n",
              "      <td>dialogue</td>\n",
              "    </tr>\n",
              "    <tr>\n",
              "      <th>55394</th>\n",
              "      <td>All right, then make an appointment with her s...</td>\n",
              "      <td>dialogue</td>\n",
              "    </tr>\n",
              "    <tr>\n",
              "      <th>90806</th>\n",
              "      <td>Hey, what is this-an interview? We're supposed...</td>\n",
              "      <td>dialogue</td>\n",
              "    </tr>\n",
              "    <tr>\n",
              "      <th>107758</th>\n",
              "      <td>Yeah. He's just a friend of mine I was trying ...</td>\n",
              "      <td>dialogue</td>\n",
              "    </tr>\n",
              "  </tbody>\n",
              "</table>\n",
              "</div>"
            ],
            "text/plain": [
              "                                                     text       tag\n",
              "82925                            Donna, you are a muffin.  dialogue\n",
              "48774   He was here last night till about two o'clock....  dialogue\n",
              "55394   All right, then make an appointment with her s...  dialogue\n",
              "90806   Hey, what is this-an interview? We're supposed...  dialogue\n",
              "107758  Yeah. He's just a friend of mine I was trying ...  dialogue"
            ]
          },
          "metadata": {
            "tags": []
          },
          "execution_count": 6
        }
      ]
    },
    {
      "cell_type": "code",
      "metadata": {
        "id": "R2DsXb3kjg0w",
        "colab_type": "code",
        "colab": {
          "base_uri": "https://localhost:8080/",
          "height": 204
        },
        "outputId": "77e04808-081c-4519-8a9e-3817999e92b2"
      },
      "source": [
        "stackoverflow_df.head()"
      ],
      "execution_count": 7,
      "outputs": [
        {
          "output_type": "execute_result",
          "data": {
            "text/html": [
              "<div>\n",
              "<style scoped>\n",
              "    .dataframe tbody tr th:only-of-type {\n",
              "        vertical-align: middle;\n",
              "    }\n",
              "\n",
              "    .dataframe tbody tr th {\n",
              "        vertical-align: top;\n",
              "    }\n",
              "\n",
              "    .dataframe thead th {\n",
              "        text-align: right;\n",
              "    }\n",
              "</style>\n",
              "<table border=\"1\" class=\"dataframe\">\n",
              "  <thead>\n",
              "    <tr style=\"text-align: right;\">\n",
              "      <th></th>\n",
              "      <th>post_id</th>\n",
              "      <th>title</th>\n",
              "      <th>tag</th>\n",
              "    </tr>\n",
              "  </thead>\n",
              "  <tbody>\n",
              "    <tr>\n",
              "      <th>2168983</th>\n",
              "      <td>43837842</td>\n",
              "      <td>Efficient Algorithm to compose valid expressio...</td>\n",
              "      <td>python</td>\n",
              "    </tr>\n",
              "    <tr>\n",
              "      <th>1084095</th>\n",
              "      <td>15747223</td>\n",
              "      <td>Why does this basic thread program fail with C...</td>\n",
              "      <td>c_cpp</td>\n",
              "    </tr>\n",
              "    <tr>\n",
              "      <th>1049020</th>\n",
              "      <td>15189594</td>\n",
              "      <td>Link to scroll to top not working</td>\n",
              "      <td>javascript</td>\n",
              "    </tr>\n",
              "    <tr>\n",
              "      <th>200466</th>\n",
              "      <td>3273927</td>\n",
              "      <td>Is it possible to implement ping on windows ph...</td>\n",
              "      <td>c#</td>\n",
              "    </tr>\n",
              "    <tr>\n",
              "      <th>1200249</th>\n",
              "      <td>17684551</td>\n",
              "      <td>GLSL normal mapping issue</td>\n",
              "      <td>c_cpp</td>\n",
              "    </tr>\n",
              "  </tbody>\n",
              "</table>\n",
              "</div>"
            ],
            "text/plain": [
              "          post_id  ...         tag\n",
              "2168983  43837842  ...      python\n",
              "1084095  15747223  ...       c_cpp\n",
              "1049020  15189594  ...  javascript\n",
              "200466    3273927  ...          c#\n",
              "1200249  17684551  ...       c_cpp\n",
              "\n",
              "[5 rows x 3 columns]"
            ]
          },
          "metadata": {
            "tags": []
          },
          "execution_count": 7
        }
      ]
    },
    {
      "cell_type": "markdown",
      "metadata": {
        "id": "DYVAlUvQjg02",
        "colab_type": "text"
      },
      "source": [
        "Apply *text_prepare* function to preprocess the data.\n",
        "\n",
        "If you filled in the file, but NotImplementedError is still displayed, please refer to [this thread](https://github.com/hse-aml/natural-language-processing/issues/27)."
      ]
    },
    {
      "cell_type": "code",
      "metadata": {
        "id": "BICLXb8Rjg03",
        "colab_type": "code",
        "colab": {
          "base_uri": "https://localhost:8080/",
          "height": 51
        },
        "outputId": "6b17bc43-9189-4118-e49a-150324788a1e"
      },
      "source": [
        "import nltk\n",
        "import pickle\n",
        "import re\n",
        "import numpy as np\n",
        "\n",
        "nltk.download('stopwords')\n",
        "from nltk.corpus import stopwords\n",
        "\n",
        "# Paths for all resources for the bot.\n",
        "RESOURCE_PATH = {\n",
        "    'INTENT_RECOGNIZER': 'intent_recognizer.pkl',\n",
        "    'TAG_CLASSIFIER': 'tag_classifier.pkl',\n",
        "    'TFIDF_VECTORIZER': 'tfidf_vectorizer.pkl',\n",
        "    'THREAD_EMBEDDINGS_FOLDER': 'thread_embeddings_by_tags',\n",
        "    'WORD_EMBEDDINGS': 'data/word_embeddings.tsv',\n",
        "}\n",
        "\n",
        "\n",
        "def text_prepare(text):\n",
        "    \"\"\"Performs tokenization and simple preprocessing.\"\"\"\n",
        "    replace_by_space_re = re.compile('[/(){}\\[\\]\\|@,;]')\n",
        "    good_symbols_re = re.compile('[^0-9a-z #+_]')\n",
        "    stopwords_set = set(stopwords.words('english'))\n",
        "\n",
        "    text = text.lower()\n",
        "    text = replace_by_space_re.sub(' ', text)\n",
        "    text = good_symbols_re.sub('', text)\n",
        "    text = ' '.join([x for x in text.split() if x and x not in stopwords_set])\n",
        "\n",
        "    return text.strip()\n",
        "\n",
        "\n",
        "def load_embeddings(embeddings_path):\n",
        "    \"\"\"Loads pre-trained word embeddings from tsv file.\n",
        "    Args:\n",
        "      embeddings_path - path to the embeddings file.\n",
        "    Returns:\n",
        "      embeddings - dict mapping words to vectors;\n",
        "      embeddings_dim - dimension of the vectors.\n",
        "    \"\"\"\n",
        "\n",
        "    # Hint: you have already implemented a similar routine in the 3rd assignment.\n",
        "    # Note that here you also need to know the dimension of the loaded embeddings.\n",
        "    # When you load the embeddings, use numpy.float32 type as dtype\n",
        "\n",
        "    embeddings = {}\n",
        "    for sentence in open(embeddings_path):\n",
        "        sentence_array = sentence.strip().split('\\t')\n",
        "        word = sentence_array[0]\n",
        "        embed = sentence_array[1:]\n",
        "        if word not in embeddings:\n",
        "            embeddings[word] = np.array(embed, dtype = np.float32)\n",
        "    for key in embeddings.keys():\n",
        "      dims = embeddings[key].shape[0]\n",
        "      return embeddings, dims        \n",
        "    # remove this when you're done\n",
        "    \n",
        "\n",
        "\n",
        "def question_to_vec(question, embeddings, dim):\n",
        "    \"\"\"Transforms a string to an embedding by averaging word embeddings.\"\"\"\n",
        "\n",
        "    # Hint: you have already implemented exactly this function in the 3rd assignment.\n",
        "\n",
        "    word_embeddings = []\n",
        "    for word in question.split():\n",
        "      if word not in embeddings:\n",
        "        pass\n",
        "      else:\n",
        "        word_embeddings.append(embeddings[word])\n",
        "    if len(word_embeddings) == 0:\n",
        "      return np.zeros(dim)\n",
        "    else:\n",
        "      return np.array(word_embeddings).mean(axis = 0)\n",
        "\n",
        "    # remove this when you're done\n",
        "    raise NotImplementedError(\n",
        "        \"Open utils.py and fill with your code. In case of Google Colab, download\"\n",
        "        \"(https://github.com/hse-aml/natural-language-processing/blob/master/project/utils.py), \"\n",
        "        \"edit locally and upload using '> arrow on the left edge' -> Files -> UPLOAD\")\n",
        "\n",
        "\n",
        "def unpickle_file(filename):\n",
        "    \"\"\"Returns the result of unpickling the file content.\"\"\"\n",
        "    with open(filename, 'rb') as f:\n",
        "        return pickle.load(f)\n",
        "        \n",
        "#from utils.py import text_prepare"
      ],
      "execution_count": 8,
      "outputs": [
        {
          "output_type": "stream",
          "text": [
            "[nltk_data] Downloading package stopwords to /root/nltk_data...\n",
            "[nltk_data]   Package stopwords is already up-to-date!\n"
          ],
          "name": "stderr"
        }
      ]
    },
    {
      "cell_type": "code",
      "metadata": {
        "id": "0zdRv96Kjg07",
        "colab_type": "code",
        "colab": {}
      },
      "source": [
        "dialogue_df['text'] = dialogue_df['text'].map(text_prepare)\n",
        "stackoverflow_df['title'] = stackoverflow_df['title'].map(text_prepare)"
      ],
      "execution_count": 9,
      "outputs": []
    },
    {
      "cell_type": "markdown",
      "metadata": {
        "id": "n93LQ2jLjg1A",
        "colab_type": "text"
      },
      "source": [
        "### Intent recognition"
      ]
    },
    {
      "cell_type": "markdown",
      "metadata": {
        "id": "Hqqjk-Q4jg1B",
        "colab_type": "text"
      },
      "source": [
        "We will do a binary classification on TF-IDF representations of texts. Labels will be either `dialogue` for general questions or `stackoverflow` for programming-related questions. First, prepare the data for this task:\n",
        "- concatenate `dialogue` and `stackoverflow` examples into one sample\n",
        "- split it into train and test in proportion 9:1, use *random_state=0* for reproducibility\n",
        "- transform it into TF-IDF features"
      ]
    },
    {
      "cell_type": "code",
      "metadata": {
        "id": "tXJsLuh9jg1D",
        "colab_type": "code",
        "colab": {}
      },
      "source": [
        "from sklearn.model_selection import train_test_split"
      ],
      "execution_count": 10,
      "outputs": []
    },
    {
      "cell_type": "code",
      "metadata": {
        "id": "2tX1Js2Djg1J",
        "colab_type": "code",
        "colab": {
          "base_uri": "https://localhost:8080/",
          "height": 34
        },
        "outputId": "e9f79e8e-ea63-4a3b-ee64-cd0ff8a00c16"
      },
      "source": [
        "X = np.concatenate([dialogue_df['text'].values, stackoverflow_df['title'].values])\n",
        "y = ['dialogue'] * dialogue_df.shape[0] + ['stackoverflow'] * stackoverflow_df.shape[0]\n",
        "\n",
        "X_train, X_test, y_train, y_test = train_test_split(X, y, random_state = 0, train_size = 0.9)\n",
        "print('Train size = {}, test size = {}'.format(len(X_train), len(X_test)))\n",
        "\n",
        "X_train_tfidf, X_test_tfidf = tfidf_features(X_train, X_test, RESOURCE_PATH['TFIDF_VECTORIZER'])"
      ],
      "execution_count": 11,
      "outputs": [
        {
          "output_type": "stream",
          "text": [
            "Train size = 360000, test size = 40000\n"
          ],
          "name": "stdout"
        }
      ]
    },
    {
      "cell_type": "markdown",
      "metadata": {
        "id": "B2F0vgoHjg1M",
        "colab_type": "text"
      },
      "source": [
        "Train the **intent recognizer** using LogisticRegression on the train set with the following parameters: *penalty='l2'*, *C=10*, *random_state=0*. Print out the accuracy on the test set to check whether everything looks good."
      ]
    },
    {
      "cell_type": "code",
      "metadata": {
        "id": "NV5bMBmdjg1O",
        "colab_type": "code",
        "colab": {}
      },
      "source": [
        "from sklearn.linear_model import LogisticRegression\n",
        "from sklearn.metrics import accuracy_score"
      ],
      "execution_count": 12,
      "outputs": []
    },
    {
      "cell_type": "code",
      "metadata": {
        "id": "oyCVe5wejg1V",
        "colab_type": "code",
        "colab": {
          "base_uri": "https://localhost:8080/",
          "height": 238
        },
        "outputId": "1f4f1fba-4297-4dd8-d4c3-027d4f46469f"
      },
      "source": [
        "intent_model = 0\n",
        "intent_recognizer = LogisticRegression(penalty='l2', C = 10, random_state=0)\n",
        "intent_recognizer.fit(X_train_tfidf, y_train)"
      ],
      "execution_count": 13,
      "outputs": [
        {
          "output_type": "stream",
          "text": [
            "/usr/local/lib/python3.6/dist-packages/sklearn/linear_model/_logistic.py:940: ConvergenceWarning: lbfgs failed to converge (status=1):\n",
            "STOP: TOTAL NO. of ITERATIONS REACHED LIMIT.\n",
            "\n",
            "Increase the number of iterations (max_iter) or scale the data as shown in:\n",
            "    https://scikit-learn.org/stable/modules/preprocessing.html\n",
            "Please also refer to the documentation for alternative solver options:\n",
            "    https://scikit-learn.org/stable/modules/linear_model.html#logistic-regression\n",
            "  extra_warning_msg=_LOGISTIC_SOLVER_CONVERGENCE_MSG)\n"
          ],
          "name": "stderr"
        },
        {
          "output_type": "execute_result",
          "data": {
            "text/plain": [
              "LogisticRegression(C=10, class_weight=None, dual=False, fit_intercept=True,\n",
              "                   intercept_scaling=1, l1_ratio=None, max_iter=100,\n",
              "                   multi_class='auto', n_jobs=None, penalty='l2',\n",
              "                   random_state=0, solver='lbfgs', tol=0.0001, verbose=0,\n",
              "                   warm_start=False)"
            ]
          },
          "metadata": {
            "tags": []
          },
          "execution_count": 13
        }
      ]
    },
    {
      "cell_type": "code",
      "metadata": {
        "id": "oAu0miH2jg1Z",
        "colab_type": "code",
        "colab": {
          "base_uri": "https://localhost:8080/",
          "height": 34
        },
        "outputId": "2890e66a-a702-4b2c-81b9-af42366eda2e"
      },
      "source": [
        "# Check test accuracy.\n",
        "y_test_pred = intent_recognizer.predict(X_test_tfidf)\n",
        "test_accuracy = accuracy_score(y_test, y_test_pred)\n",
        "print('Test accuracy = {}'.format(test_accuracy))"
      ],
      "execution_count": 14,
      "outputs": [
        {
          "output_type": "stream",
          "text": [
            "Test accuracy = 0.9916\n"
          ],
          "name": "stdout"
        }
      ]
    },
    {
      "cell_type": "markdown",
      "metadata": {
        "id": "_lfEXtMQjg1d",
        "colab_type": "text"
      },
      "source": [
        "Dump the classifier to use it in the running bot."
      ]
    },
    {
      "cell_type": "code",
      "metadata": {
        "id": "rupbNgAxjg1f",
        "colab_type": "code",
        "colab": {}
      },
      "source": [
        "pickle.dump(intent_recognizer, open(RESOURCE_PATH['INTENT_RECOGNIZER'], 'wb'))"
      ],
      "execution_count": 15,
      "outputs": []
    },
    {
      "cell_type": "markdown",
      "metadata": {
        "id": "V6tvDmdsjg1o",
        "colab_type": "text"
      },
      "source": [
        "### Programming language classification "
      ]
    },
    {
      "cell_type": "markdown",
      "metadata": {
        "id": "D-DVzy8zjg1o",
        "colab_type": "text"
      },
      "source": [
        "We will train one more classifier for the programming-related questions. It will predict exactly one tag (=programming language) and will be also based on Logistic Regression with TF-IDF features. \n",
        "\n",
        "First, let us prepare the data for this task."
      ]
    },
    {
      "cell_type": "code",
      "metadata": {
        "id": "xvezUeA-jg1p",
        "colab_type": "code",
        "colab": {}
      },
      "source": [
        "X = stackoverflow_df['title'].values\n",
        "y = stackoverflow_df['tag'].values"
      ],
      "execution_count": 16,
      "outputs": []
    },
    {
      "cell_type": "code",
      "metadata": {
        "id": "gtLzcZsdjg1u",
        "colab_type": "code",
        "colab": {
          "base_uri": "https://localhost:8080/",
          "height": 34
        },
        "outputId": "5f563951-c780-4d28-822b-64012a7e878d"
      },
      "source": [
        "X_train, X_test, y_train, y_test = train_test_split(X, y, test_size=0.2, random_state=0)\n",
        "print('Train size = {}, test size = {}'.format(len(X_train), len(X_test)))"
      ],
      "execution_count": 17,
      "outputs": [
        {
          "output_type": "stream",
          "text": [
            "Train size = 160000, test size = 40000\n"
          ],
          "name": "stdout"
        }
      ]
    },
    {
      "cell_type": "markdown",
      "metadata": {
        "id": "zmDmm4aJjg11",
        "colab_type": "text"
      },
      "source": [
        "Let us reuse the TF-IDF vectorizer that we have already created above. It should not make a huge difference which data was used to train it."
      ]
    },
    {
      "cell_type": "code",
      "metadata": {
        "id": "GLMF_N3Njg12",
        "colab_type": "code",
        "colab": {}
      },
      "source": [
        "vectorizer = pickle.load(open(RESOURCE_PATH['TFIDF_VECTORIZER'], 'rb'))\n",
        "X_train_tfidf, X_test_tfidf = vectorizer.transform(X_train), vectorizer.transform(X_test)"
      ],
      "execution_count": 18,
      "outputs": []
    },
    {
      "cell_type": "markdown",
      "metadata": {
        "id": "ayt8yfEyjg15",
        "colab_type": "text"
      },
      "source": [
        "Train the **tag classifier** using OneVsRestClassifier wrapper over LogisticRegression. Use the following parameters: *penalty='l2'*, *C=5*, *random_state=0*."
      ]
    },
    {
      "cell_type": "code",
      "metadata": {
        "id": "RzWcLW-Tjg16",
        "colab_type": "code",
        "colab": {}
      },
      "source": [
        "from sklearn.multiclass import OneVsRestClassifier"
      ],
      "execution_count": 19,
      "outputs": []
    },
    {
      "cell_type": "code",
      "metadata": {
        "id": "rkW2z4aBjg2B",
        "colab_type": "code",
        "colab": {
          "base_uri": "https://localhost:8080/",
          "height": 1000
        },
        "outputId": "ac9da52d-0751-4129-f5b9-966292c2ffa5"
      },
      "source": [
        "tag_classifier = OneVsRestClassifier(LogisticRegression(penalty='l2', C = 5, random_state=0))\n",
        "tag_classifier.fit(X_train_tfidf, y_train)"
      ],
      "execution_count": 20,
      "outputs": [
        {
          "output_type": "stream",
          "text": [
            "/usr/local/lib/python3.6/dist-packages/sklearn/linear_model/_logistic.py:940: ConvergenceWarning: lbfgs failed to converge (status=1):\n",
            "STOP: TOTAL NO. of ITERATIONS REACHED LIMIT.\n",
            "\n",
            "Increase the number of iterations (max_iter) or scale the data as shown in:\n",
            "    https://scikit-learn.org/stable/modules/preprocessing.html\n",
            "Please also refer to the documentation for alternative solver options:\n",
            "    https://scikit-learn.org/stable/modules/linear_model.html#logistic-regression\n",
            "  extra_warning_msg=_LOGISTIC_SOLVER_CONVERGENCE_MSG)\n",
            "/usr/local/lib/python3.6/dist-packages/sklearn/linear_model/_logistic.py:940: ConvergenceWarning: lbfgs failed to converge (status=1):\n",
            "STOP: TOTAL NO. of ITERATIONS REACHED LIMIT.\n",
            "\n",
            "Increase the number of iterations (max_iter) or scale the data as shown in:\n",
            "    https://scikit-learn.org/stable/modules/preprocessing.html\n",
            "Please also refer to the documentation for alternative solver options:\n",
            "    https://scikit-learn.org/stable/modules/linear_model.html#logistic-regression\n",
            "  extra_warning_msg=_LOGISTIC_SOLVER_CONVERGENCE_MSG)\n",
            "/usr/local/lib/python3.6/dist-packages/sklearn/linear_model/_logistic.py:940: ConvergenceWarning: lbfgs failed to converge (status=1):\n",
            "STOP: TOTAL NO. of ITERATIONS REACHED LIMIT.\n",
            "\n",
            "Increase the number of iterations (max_iter) or scale the data as shown in:\n",
            "    https://scikit-learn.org/stable/modules/preprocessing.html\n",
            "Please also refer to the documentation for alternative solver options:\n",
            "    https://scikit-learn.org/stable/modules/linear_model.html#logistic-regression\n",
            "  extra_warning_msg=_LOGISTIC_SOLVER_CONVERGENCE_MSG)\n",
            "/usr/local/lib/python3.6/dist-packages/sklearn/linear_model/_logistic.py:940: ConvergenceWarning: lbfgs failed to converge (status=1):\n",
            "STOP: TOTAL NO. of ITERATIONS REACHED LIMIT.\n",
            "\n",
            "Increase the number of iterations (max_iter) or scale the data as shown in:\n",
            "    https://scikit-learn.org/stable/modules/preprocessing.html\n",
            "Please also refer to the documentation for alternative solver options:\n",
            "    https://scikit-learn.org/stable/modules/linear_model.html#logistic-regression\n",
            "  extra_warning_msg=_LOGISTIC_SOLVER_CONVERGENCE_MSG)\n",
            "/usr/local/lib/python3.6/dist-packages/sklearn/linear_model/_logistic.py:940: ConvergenceWarning: lbfgs failed to converge (status=1):\n",
            "STOP: TOTAL NO. of ITERATIONS REACHED LIMIT.\n",
            "\n",
            "Increase the number of iterations (max_iter) or scale the data as shown in:\n",
            "    https://scikit-learn.org/stable/modules/preprocessing.html\n",
            "Please also refer to the documentation for alternative solver options:\n",
            "    https://scikit-learn.org/stable/modules/linear_model.html#logistic-regression\n",
            "  extra_warning_msg=_LOGISTIC_SOLVER_CONVERGENCE_MSG)\n",
            "/usr/local/lib/python3.6/dist-packages/sklearn/linear_model/_logistic.py:940: ConvergenceWarning: lbfgs failed to converge (status=1):\n",
            "STOP: TOTAL NO. of ITERATIONS REACHED LIMIT.\n",
            "\n",
            "Increase the number of iterations (max_iter) or scale the data as shown in:\n",
            "    https://scikit-learn.org/stable/modules/preprocessing.html\n",
            "Please also refer to the documentation for alternative solver options:\n",
            "    https://scikit-learn.org/stable/modules/linear_model.html#logistic-regression\n",
            "  extra_warning_msg=_LOGISTIC_SOLVER_CONVERGENCE_MSG)\n",
            "/usr/local/lib/python3.6/dist-packages/sklearn/linear_model/_logistic.py:940: ConvergenceWarning: lbfgs failed to converge (status=1):\n",
            "STOP: TOTAL NO. of ITERATIONS REACHED LIMIT.\n",
            "\n",
            "Increase the number of iterations (max_iter) or scale the data as shown in:\n",
            "    https://scikit-learn.org/stable/modules/preprocessing.html\n",
            "Please also refer to the documentation for alternative solver options:\n",
            "    https://scikit-learn.org/stable/modules/linear_model.html#logistic-regression\n",
            "  extra_warning_msg=_LOGISTIC_SOLVER_CONVERGENCE_MSG)\n",
            "/usr/local/lib/python3.6/dist-packages/sklearn/linear_model/_logistic.py:940: ConvergenceWarning: lbfgs failed to converge (status=1):\n",
            "STOP: TOTAL NO. of ITERATIONS REACHED LIMIT.\n",
            "\n",
            "Increase the number of iterations (max_iter) or scale the data as shown in:\n",
            "    https://scikit-learn.org/stable/modules/preprocessing.html\n",
            "Please also refer to the documentation for alternative solver options:\n",
            "    https://scikit-learn.org/stable/modules/linear_model.html#logistic-regression\n",
            "  extra_warning_msg=_LOGISTIC_SOLVER_CONVERGENCE_MSG)\n",
            "/usr/local/lib/python3.6/dist-packages/sklearn/linear_model/_logistic.py:940: ConvergenceWarning: lbfgs failed to converge (status=1):\n",
            "STOP: TOTAL NO. of ITERATIONS REACHED LIMIT.\n",
            "\n",
            "Increase the number of iterations (max_iter) or scale the data as shown in:\n",
            "    https://scikit-learn.org/stable/modules/preprocessing.html\n",
            "Please also refer to the documentation for alternative solver options:\n",
            "    https://scikit-learn.org/stable/modules/linear_model.html#logistic-regression\n",
            "  extra_warning_msg=_LOGISTIC_SOLVER_CONVERGENCE_MSG)\n",
            "/usr/local/lib/python3.6/dist-packages/sklearn/linear_model/_logistic.py:940: ConvergenceWarning: lbfgs failed to converge (status=1):\n",
            "STOP: TOTAL NO. of ITERATIONS REACHED LIMIT.\n",
            "\n",
            "Increase the number of iterations (max_iter) or scale the data as shown in:\n",
            "    https://scikit-learn.org/stable/modules/preprocessing.html\n",
            "Please also refer to the documentation for alternative solver options:\n",
            "    https://scikit-learn.org/stable/modules/linear_model.html#logistic-regression\n",
            "  extra_warning_msg=_LOGISTIC_SOLVER_CONVERGENCE_MSG)\n"
          ],
          "name": "stderr"
        },
        {
          "output_type": "execute_result",
          "data": {
            "text/plain": [
              "OneVsRestClassifier(estimator=LogisticRegression(C=5, class_weight=None,\n",
              "                                                 dual=False, fit_intercept=True,\n",
              "                                                 intercept_scaling=1,\n",
              "                                                 l1_ratio=None, max_iter=100,\n",
              "                                                 multi_class='auto',\n",
              "                                                 n_jobs=None, penalty='l2',\n",
              "                                                 random_state=0, solver='lbfgs',\n",
              "                                                 tol=0.0001, verbose=0,\n",
              "                                                 warm_start=False),\n",
              "                    n_jobs=None)"
            ]
          },
          "metadata": {
            "tags": []
          },
          "execution_count": 20
        }
      ]
    },
    {
      "cell_type": "code",
      "metadata": {
        "id": "LrwLXxtVjg2H",
        "colab_type": "code",
        "colab": {
          "base_uri": "https://localhost:8080/",
          "height": 34
        },
        "outputId": "3006a727-2aae-4d6f-84a8-19eac4c3fb72"
      },
      "source": [
        "# Check test accuracy.\n",
        "y_test_pred = tag_classifier.predict(X_test_tfidf)\n",
        "test_accuracy = accuracy_score(y_test, y_test_pred)\n",
        "print('Test accuracy = {}'.format(test_accuracy))"
      ],
      "execution_count": 21,
      "outputs": [
        {
          "output_type": "stream",
          "text": [
            "Test accuracy = 0.80005\n"
          ],
          "name": "stdout"
        }
      ]
    },
    {
      "cell_type": "markdown",
      "metadata": {
        "id": "CATZJd8ijg2L",
        "colab_type": "text"
      },
      "source": [
        "Dump the classifier to use it in the running bot."
      ]
    },
    {
      "cell_type": "code",
      "metadata": {
        "id": "-5hTkEuljg2M",
        "colab_type": "code",
        "colab": {}
      },
      "source": [
        "pickle.dump(tag_classifier, open(RESOURCE_PATH['TAG_CLASSIFIER'], 'wb'))"
      ],
      "execution_count": 22,
      "outputs": []
    },
    {
      "cell_type": "markdown",
      "metadata": {
        "id": "KK8XjmNFjg2R",
        "colab_type": "text"
      },
      "source": [
        "## Part II. Ranking  questions with embeddings"
      ]
    },
    {
      "cell_type": "markdown",
      "metadata": {
        "id": "bRHtNbREjg2S",
        "colab_type": "text"
      },
      "source": [
        "To find a relevant answer (a thread from StackOverflow) on a question you will use vector representations to calculate similarity between the question and existing threads. We already had `question_to_vec` function from the assignment 3, which can create such a representation based on word vectors. \n",
        "\n",
        "However, it would be costly to compute such a representation for all possible answers in *online mode* of the bot (e.g. when bot is running and answering questions from many users). This is the reason why you will create a *database* with pre-computed representations. These representations will be arranged by non-overlaping tags (programming languages), so that the search of the answer can be performed only within one tag each time. This will make our bot even more efficient and allow not to store all the database in RAM. "
      ]
    },
    {
      "cell_type": "markdown",
      "metadata": {
        "id": "KV5xTp6Kjg2U",
        "colab_type": "text"
      },
      "source": [
        "Load StarSpace embeddings which were trained on Stack Overflow posts. These embeddings were trained in *supervised mode* for duplicates detection on the same corpus that is used in search. We can account on that these representations will allow us to find closely related answers for a question. \n",
        "\n",
        "If for some reasons you didn't train StarSpace embeddings in the assignment 3, you can use [pre-trained word vectors](https://code.google.com/archive/p/word2vec/) from Google. All instructions about how to work with these vectors were provided in the same assignment. However, we highly recommend to use StarSpace's embeddings, because it contains more appropriate embeddings. If you chose to use Google's embeddings, delete the words, which are not in Stackoverflow data."
      ]
    },
    {
      "cell_type": "code",
      "metadata": {
        "id": "WGqPfRtEjg2V",
        "colab_type": "code",
        "colab": {}
      },
      "source": [
        "starspace_embeddings, embeddings_dim = load_embeddings('data/word_embeddings.tsv')"
      ],
      "execution_count": 23,
      "outputs": []
    },
    {
      "cell_type": "markdown",
      "metadata": {
        "id": "RcderCC1jg2a",
        "colab_type": "text"
      },
      "source": [
        "Since we want to precompute representations for all possible answers, we need to load the whole posts dataset, unlike we did for the intent classifier:"
      ]
    },
    {
      "cell_type": "code",
      "metadata": {
        "id": "byXZY6vZjg2b",
        "colab_type": "code",
        "colab": {
          "base_uri": "https://localhost:8080/",
          "height": 204
        },
        "outputId": "547aae5b-51c9-4e87-9aa4-a1217daacb7e"
      },
      "source": [
        "posts_df = pd.read_csv('data/tagged_posts.tsv', sep='\\t')\n",
        "posts_df.head()"
      ],
      "execution_count": 24,
      "outputs": [
        {
          "output_type": "execute_result",
          "data": {
            "text/html": [
              "<div>\n",
              "<style scoped>\n",
              "    .dataframe tbody tr th:only-of-type {\n",
              "        vertical-align: middle;\n",
              "    }\n",
              "\n",
              "    .dataframe tbody tr th {\n",
              "        vertical-align: top;\n",
              "    }\n",
              "\n",
              "    .dataframe thead th {\n",
              "        text-align: right;\n",
              "    }\n",
              "</style>\n",
              "<table border=\"1\" class=\"dataframe\">\n",
              "  <thead>\n",
              "    <tr style=\"text-align: right;\">\n",
              "      <th></th>\n",
              "      <th>post_id</th>\n",
              "      <th>title</th>\n",
              "      <th>tag</th>\n",
              "    </tr>\n",
              "  </thead>\n",
              "  <tbody>\n",
              "    <tr>\n",
              "      <th>0</th>\n",
              "      <td>9</td>\n",
              "      <td>Calculate age in C#</td>\n",
              "      <td>c#</td>\n",
              "    </tr>\n",
              "    <tr>\n",
              "      <th>1</th>\n",
              "      <td>16</td>\n",
              "      <td>Filling a DataSet or DataTable from a LINQ que...</td>\n",
              "      <td>c#</td>\n",
              "    </tr>\n",
              "    <tr>\n",
              "      <th>2</th>\n",
              "      <td>39</td>\n",
              "      <td>Reliable timer in a console application</td>\n",
              "      <td>c#</td>\n",
              "    </tr>\n",
              "    <tr>\n",
              "      <th>3</th>\n",
              "      <td>42</td>\n",
              "      <td>Best way to allow plugins for a PHP application</td>\n",
              "      <td>php</td>\n",
              "    </tr>\n",
              "    <tr>\n",
              "      <th>4</th>\n",
              "      <td>59</td>\n",
              "      <td>How do I get a distinct, ordered list of names...</td>\n",
              "      <td>c#</td>\n",
              "    </tr>\n",
              "  </tbody>\n",
              "</table>\n",
              "</div>"
            ],
            "text/plain": [
              "   post_id                                              title  tag\n",
              "0        9                                Calculate age in C#   c#\n",
              "1       16  Filling a DataSet or DataTable from a LINQ que...   c#\n",
              "2       39            Reliable timer in a console application   c#\n",
              "3       42    Best way to allow plugins for a PHP application  php\n",
              "4       59  How do I get a distinct, ordered list of names...   c#"
            ]
          },
          "metadata": {
            "tags": []
          },
          "execution_count": 24
        }
      ]
    },
    {
      "cell_type": "markdown",
      "metadata": {
        "id": "gnafL5Vkjg2f",
        "colab_type": "text"
      },
      "source": [
        "Look at the distribution of posts for programming languages (tags) and find the most common ones. \n",
        "You might want to use pandas [groupby](https://pandas.pydata.org/pandas-docs/stable/generated/pandas.DataFrame.groupby.html) and [count](https://pandas.pydata.org/pandas-docs/stable/generated/pandas.DataFrame.count.html) methods:"
      ]
    },
    {
      "cell_type": "code",
      "metadata": {
        "id": "edT2kls_jg2f",
        "colab_type": "code",
        "colab": {
          "base_uri": "https://localhost:8080/",
          "height": 187
        },
        "outputId": "d5f26dbf-c317-40cd-d09a-17f32440d56b"
      },
      "source": [
        "counts_by_tag = 0\n",
        "counts_by_tag = posts_df.groupby('tag').count()['title']\n",
        "counts_by_tag = counts_by_tag.to_dict()\n",
        "counts_by_tag"
      ],
      "execution_count": 25,
      "outputs": [
        {
          "output_type": "execute_result",
          "data": {
            "text/plain": [
              "{'c#': 394451,\n",
              " 'c_cpp': 281300,\n",
              " 'java': 383456,\n",
              " 'javascript': 375867,\n",
              " 'php': 321752,\n",
              " 'python': 208607,\n",
              " 'r': 36359,\n",
              " 'ruby': 99930,\n",
              " 'swift': 34809,\n",
              " 'vb': 35044}"
            ]
          },
          "metadata": {
            "tags": []
          },
          "execution_count": 25
        }
      ]
    },
    {
      "cell_type": "markdown",
      "metadata": {
        "id": "4Me7NwY4jg2k",
        "colab_type": "text"
      },
      "source": [
        "Now for each `tag` you need to create two data structures, which will serve as online search index:\n",
        "* `tag_post_ids` — a list of post_ids with shape `(counts_by_tag[tag],)`. It will be needed to show the title and link to the thread;\n",
        "* `tag_vectors` — a matrix with shape `(counts_by_tag[tag], embeddings_dim)` where embeddings for each answer are stored.\n",
        "\n",
        "Implement the code which will calculate the mentioned structures and dump it to files. It should take several minutes to compute it."
      ]
    },
    {
      "cell_type": "code",
      "metadata": {
        "id": "eiupoLBxjg2l",
        "colab_type": "code",
        "colab": {}
      },
      "source": [
        "import os\n",
        "os.makedirs(RESOURCE_PATH['THREAD_EMBEDDINGS_FOLDER'], exist_ok=True)\n",
        "\n",
        "for tag, count in counts_by_tag.items():\n",
        "    tag_posts = posts_df[posts_df['tag'] == tag]\n",
        "    \n",
        "    tag_post_ids = tag_posts['post_id'].values\n",
        "    \n",
        "    tag_vectors = np.zeros((count, embeddings_dim), dtype=np.float32)\n",
        "    for i, title in enumerate(tag_posts['title']):\n",
        "        tag_vectors[i, :] = question_to_vec(title, starspace_embeddings, embeddings_dim)\n",
        "\n",
        "    # Dump post ids and vectors to a file.\n",
        "    filename = os.path.join(RESOURCE_PATH['THREAD_EMBEDDINGS_FOLDER'], os.path.normpath('%s.pkl' % tag))\n",
        "    pickle.dump((tag_post_ids, tag_vectors), open(filename, 'wb'))"
      ],
      "execution_count": 26,
      "outputs": []
    },
    {
      "cell_type": "markdown",
      "metadata": {
        "id": "bA8-pltDjg2s",
        "colab_type": "text"
      },
      "source": [
        "## Part III. Putting all together"
      ]
    },
    {
      "cell_type": "markdown",
      "metadata": {
        "id": "6QbO7WKjjg2t",
        "colab_type": "text"
      },
      "source": [
        "Now let's combine everything that we have done and enable the bot to maintain a dialogue. We will teach the bot to sequentially determine the intent and, depending on the intent, select the best answer. As soon as we do this, we will have the opportunity to chat with the bot and check how well it answers questions."
      ]
    },
    {
      "cell_type": "markdown",
      "metadata": {
        "id": "9A0_zT00jg2u",
        "colab_type": "text"
      },
      "source": [
        "Implement Dialogue Manager that will generate the best answer. In order to do this, you should open *dialogue_manager.py* and fill in the gaps."
      ]
    },
    {
      "cell_type": "code",
      "metadata": {
        "id": "GxKc--zyjg2u",
        "colab_type": "code",
        "colab": {}
      },
      "source": [
        "import os\n",
        "from sklearn.metrics.pairwise import pairwise_distances_argmin\n",
        "!pip3 install chatterbot==0.8.6\n",
        "from chatterbot import ChatBot\n",
        "from chatterbot.trainers import ChatterBotCorpusTrainer\n",
        "from utils import *\n",
        "\n",
        "\n",
        "class ThreadRanker(object):\n",
        "    def __init__(self, paths):\n",
        "        self.word_embeddings, self.embeddings_dim = load_embeddings(paths['WORD_EMBEDDINGS'])\n",
        "        self.thread_embeddings_folder = paths['THREAD_EMBEDDINGS_FOLDER']\n",
        "\n",
        "    def __load_embeddings_by_tag(self, tag_name):\n",
        "        embeddings_path = os.path.join(self.thread_embeddings_folder, tag_name + \".pkl\")\n",
        "        thread_ids, thread_embeddings = unpickle_file(embeddings_path)\n",
        "        return thread_ids, thread_embeddings\n",
        "\n",
        "    def get_best_thread(self, question, tag_name):\n",
        "        \"\"\" Returns id of the most similar thread for the question.\n",
        "            The search is performed across the threads with a given tag.\n",
        "        \"\"\"\n",
        "        thread_ids, thread_embeddings = self.__load_embeddings_by_tag(tag_name)\n",
        "\n",
        "        # HINT: you have already implemented a similar routine in the 3rd assignment.\n",
        "        \n",
        "        question_vec = question_to_vec(question=question, embeddings=self.word_embeddings, dim= self.embeddings_dim).reshape(1,-1)\n",
        "        best_thread = pairwise_distances_argmin(question_vec, thread_embeddings)\n",
        "        \n",
        "        return thread_ids[best_thread]\n",
        "\n",
        "\n",
        "class DialogueManager(object):\n",
        "    def __init__(self, paths):\n",
        "        print(\"Loading resources...\")\n",
        "\n",
        "        # Intent recognition:\n",
        "        self.intent_recognizer = unpickle_file(paths['INTENT_RECOGNIZER'])\n",
        "        self.tfidf_vectorizer = unpickle_file(paths['TFIDF_VECTORIZER'])\n",
        "\n",
        "        self.ANSWER_TEMPLATE = 'I think its about %s\\nThis thread might help you: https://stackoverflow.com/questions/%s'\n",
        "\n",
        "        # Goal-oriented part:\n",
        "        self.tag_classifier = unpickle_file(paths['TAG_CLASSIFIER'])\n",
        "        self.thread_ranker = ThreadRanker(paths)\n",
        "        self.__init_chitchat_bot()\n",
        "\n",
        "    def __init_chitchat_bot(self):\n",
        "        \"\"\"Initializes self.chitchat_bot with some conversational model.\"\"\"\n",
        "\n",
        "        # Hint: you might want to create and train chatterbot.ChatBot here.\n",
        "        # Create an instance of the ChatBot class.\n",
        "        # Create a trainer (chatterbot.trainers.ChatterBotCorpusTrainer) for the ChatBot.\n",
        "        # Train the ChatBot with \"chatterbot.corpus.english\" param.\n",
        "        \n",
        "        self.chitchat_bot = ChatBot('Bills Bot')\n",
        "        self.chitchat_bot.set_trainer(ChatterBotCorpusTrainer)\n",
        "        self.chitchat_bot.train(\"chatterbot.corpus.english\")\n",
        "        #self.trainer = ChatterBotCorpusTrainer(self.chitchat_bot)\n",
        "        #self.trainer.train('chatterbot.corpus.english')\n",
        "        \n",
        "    def generate_answer(self, question):\n",
        "        \"\"\"Combines stackoverflow and chitchat parts using intent recognition.\"\"\"\n",
        "\n",
        "        # Recognize intent of the question using `intent_recognizer`.\n",
        "        # Don't forget to prepare question and calculate features for the question.\n",
        "        \n",
        "        prepared_question = text_prepare(question)\n",
        "        features = self.tfidf_vectorizer.transform([prepared_question])\n",
        "        intent = self.intent_recognizer.predict(features)[0]\n",
        "\n",
        "        # Chit-chat part:   \n",
        "        if intent == 'dialogue':\n",
        "            # Pass question to chitchat_bot to generate a response.       \n",
        "            response = self.chitchat_bot.get_response(question)\n",
        "            return response\n",
        "        \n",
        "        # Goal-oriented part:\n",
        "        else:        \n",
        "            # Pass features to tag_classifier to get predictions.\n",
        "            tag = self.tag_classifier.predict(features)[0]\n",
        "            \n",
        "            # Pass prepared_question to thread_ranker to get predictions.\n",
        "            thread_id = self.thread_ranker.get_best_thread(prepared_question, tag)[0]\n",
        "            \n",
        "            return self.ANSWER_TEMPLATE % (tag, thread_id)\n",
        "            #from dialogue_manager import DialogueManager"
      ],
      "execution_count": 48,
      "outputs": []
    },
    {
      "cell_type": "code",
      "metadata": {
        "id": "aV6bbb5pjg2y",
        "colab_type": "code",
        "colab": {
          "base_uri": "https://localhost:8080/",
          "height": 357
        },
        "outputId": "84475858-ddaf-480e-9bb6-eceb87cabb37"
      },
      "source": [
        "dialogue_manager = DialogueManager(RESOURCE_PATH)\n",
        "#!python3 -m chatterbot --version"
      ],
      "execution_count": 49,
      "outputs": [
        {
          "output_type": "stream",
          "text": [
            "Loading resources...\n",
            "ai.yml Training: [####################] 100%\n",
            "botprofile.yml Training: [####################] 100%\n",
            "computers.yml Training: [####################] 100%\n",
            "conversations.yml Training: [####################] 100%\n",
            "emotion.yml Training: [####################] 100%\n",
            "food.yml Training: [####################] 100%\n",
            "gossip.yml Training: [####################] 100%\n",
            "greetings.yml Training: [####################] 100%\n",
            "health.yml Training: [####################] 100%\n",
            "history.yml Training: [####################] 100%\n",
            "humor.yml Training: [####################] 100%\n",
            "literature.yml Training: [####################] 100%\n",
            "money.yml Training: [####################] 100%\n",
            "movies.yml Training: [####################] 100%\n",
            "politics.yml Training: [####################] 100%\n",
            "psychology.yml Training: [####################] 100%\n",
            "science.yml Training: [####################] 100%\n",
            "sports.yml Training: [####################] 100%\n",
            "trivia.yml Training: [####################] 100%\n"
          ],
          "name": "stdout"
        }
      ]
    },
    {
      "cell_type": "markdown",
      "metadata": {
        "id": "hjV0l6Eojg22",
        "colab_type": "text"
      },
      "source": [
        "Now we are ready to test our chat bot! Let's chat with the bot and ask it some questions. Check that the answers are reasonable."
      ]
    },
    {
      "cell_type": "code",
      "metadata": {
        "id": "5tZPeKzBjg24",
        "colab_type": "code",
        "colab": {
          "base_uri": "https://localhost:8080/",
          "height": 646
        },
        "outputId": "c9a1da53-cdfb-48d2-9557-3efbbaf894a4"
      },
      "source": [
        "questions = [\n",
        "    \"Hey\", \n",
        "    \"How are you doing?\", \n",
        "    \"What's your hobby?\", \n",
        "    \"How to write a loop in python?\",\n",
        "    \"How to delete rows in pandas?\",\n",
        "    \"python3 re\",\n",
        "    \"What is the difference between c and c++\",\n",
        "    \"Multithreading in Java\",\n",
        "    \"Catch exceptions C++\",\n",
        "    \"What is AI?\",\n",
        "]\n",
        "\n",
        "for question in questions:\n",
        "    answer = dialogue_manager.generate_answer(question)\n",
        "    print('Q: %s\\nA: %s \\n' % (question, answer))"
      ],
      "execution_count": 50,
      "outputs": [
        {
          "output_type": "stream",
          "text": [
            "Q: Hey\n",
            "A: Is there a reason that I should? \n",
            "\n",
            "Q: How are you doing?\n",
            "A: I am doing well. \n",
            "\n",
            "Q: What's your hobby?\n",
            "A: Playing Soccer, Painting, Writing are my hobbies. How about you? \n",
            "\n",
            "Q: How to write a loop in python?\n",
            "A: I think its about python\n",
            "This thread might help you: https://stackoverflow.com/questions/31629988 \n",
            "\n",
            "Q: How to delete rows in pandas?\n",
            "A: I think its about python\n",
            "This thread might help you: https://stackoverflow.com/questions/40872090 \n",
            "\n",
            "Q: python3 re\n",
            "A: I think its about python\n",
            "This thread might help you: https://stackoverflow.com/questions/10769394 \n",
            "\n",
            "Q: What is the difference between c and c++\n",
            "A: I think its about c_cpp\n",
            "This thread might help you: https://stackoverflow.com/questions/25180069 \n",
            "\n",
            "Q: Multithreading in Java\n",
            "A: I think its about java\n",
            "This thread might help you: https://stackoverflow.com/questions/5692521 \n",
            "\n",
            "Q: Catch exceptions C++\n",
            "A: I think its about c_cpp\n",
            "This thread might help you: https://stackoverflow.com/questions/10877848 \n",
            "\n",
            "Q: What is AI?\n",
            "A: I think its about java\n",
            "This thread might help you: https://stackoverflow.com/questions/30362773 \n",
            "\n"
          ],
          "name": "stdout"
        }
      ]
    },
    {
      "cell_type": "code",
      "metadata": {
        "id": "vohVM5vC3-sf",
        "colab_type": "code",
        "colab": {}
      },
      "source": [
        ""
      ],
      "execution_count": null,
      "outputs": []
    }
  ]
}